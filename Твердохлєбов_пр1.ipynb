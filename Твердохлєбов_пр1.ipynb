{
  "nbformat": 4,
  "nbformat_minor": 0,
  "metadata": {
    "colab": {
      "provenance": [],
      "authorship_tag": "ABX9TyMYhTkY5MGK5RLeCBwYYEa9",
      "include_colab_link": true
    },
    "kernelspec": {
      "name": "python3",
      "display_name": "Python 3"
    },
    "language_info": {
      "name": "python"
    }
  },
  "cells": [
    {
      "cell_type": "markdown",
      "metadata": {
        "id": "view-in-github",
        "colab_type": "text"
      },
      "source": [
        "<a href=\"https://colab.research.google.com/github/Tverdokhliebov-Vladyslav/123/blob/main/%D0%A2%D0%B2%D0%B5%D1%80%D0%B4%D0%BE%D1%85%D0%BB%D1%94%D0%B1%D0%BE%D0%B2_%D0%BF%D1%801.ipynb\" target=\"_parent\"><img src=\"https://colab.research.google.com/assets/colab-badge.svg\" alt=\"Open In Colab\"/></a>"
      ]
    },
    {
      "cell_type": "code",
      "execution_count": null,
      "metadata": {
        "id": "KmNAG7sIflXU",
        "colab": {
          "base_uri": "https://localhost:8080/"
        },
        "outputId": "e4e75e89-bdc2-4338-918c-6edaa8059490"
      },
      "outputs": [
        {
          "output_type": "stream",
          "name": "stdout",
          "text": [
            "масив: [15 17 19 21 23 25 27 29]\n"
          ]
        }
      ],
      "source": [
        "# Варіант 16\n",
        "\n",
        "# Завдання 1: Створіть одновимірний масив (вектор) з найменшими непарними числами, не менше 15, та виведіть його значення.\n",
        "\n",
        "import numpy as np\n",
        "vector = np.arange(15, 30, 2)  # 15, 17, 19, 21, 23, 25, 27, 29\n",
        "print(\"масив:\", vector)\n"
      ]
    },
    {
      "cell_type": "code",
      "source": [
        "# Завдання 2: Створіть двовимірний масив (матрицю) розміром 3x3, заповніть його значеннями випадкових дійсних чисел від 0 до одиниці.\n",
        "\n",
        "matrix = np.random.rand(3, 3)\n",
        "\n",
        "print(\"\\nМасив:\\n\", matrix)"
      ],
      "metadata": {
        "id": "cxJC_SE4h4fw",
        "colab": {
          "base_uri": "https://localhost:8080/"
        },
        "outputId": "30b122d4-e740-4534-cbd2-ea1dcb5d0443"
      },
      "execution_count": 18,
      "outputs": [
        {
          "output_type": "stream",
          "name": "stdout",
          "text": [
            "\n",
            "Масив:\n",
            " [[0.1751334  0.43635142 0.80159509]\n",
            " [0.57459337 0.07417252 0.52286039]\n",
            " [0.69340194 0.04955206 0.47215642]]\n"
          ]
        }
      ]
    },
    {
      "cell_type": "code",
      "source": [
        "# Завдання 3: Створіть масив розміром 3x3, заповніть його випадковими дійсними числами від 0 до 1 та знайдіть мін. елемент\n",
        "import numpy as np\n",
        "\n",
        "matrix = np.random.rand(3, 3)\n",
        "min = np.min(matrix)\n",
        "\n",
        "print(\"\\nМатриця:\\n\", matrix)\n",
        "print(f\"Мінімальний елемент: {min}\")"
      ],
      "metadata": {
        "colab": {
          "base_uri": "https://localhost:8080/"
        },
        "id": "w1DipiWArSKv",
        "outputId": "0bdedcc7-0b74-4efa-9b85-24a7fe519286"
      },
      "execution_count": 20,
      "outputs": [
        {
          "output_type": "stream",
          "name": "stdout",
          "text": [
            "\n",
            "Матриця:\n",
            " [[0.90472778 0.81358427 0.50535528]\n",
            " [0.48574413 0.94749594 0.51984415]\n",
            " [0.23899352 0.32202145 0.32229353]]\n",
            "Мінімальний елемент: 0.2389935218403496\n"
          ]
        }
      ]
    },
    {
      "cell_type": "code",
      "source": [
        "#Завдання 4: Створіть масив розміром 3x3, заповніть його випадковими дійсними числами вдіапазоні від 0 до 1 та знайдіть вектор-стовпчик, що містить мінімальні елементи в кожному рядку\n",
        "\n",
        "import numpy as np\n",
        "\n",
        "matrix = np.random.rand(3, 3)\n",
        "\n",
        "min = np.min(matrix, axis=1)\n",
        "\n",
        "print(\"Матриця:\")\n",
        "print(matrix)\n",
        "\n",
        "print(\"Вектор мінімальних елементі:\")\n",
        "print(min)\n",
        "\n"
      ],
      "metadata": {
        "id": "2d8DB6TIrcWJ",
        "colab": {
          "base_uri": "https://localhost:8080/"
        },
        "outputId": "72a4ee51-571f-40c8-cd91-39eecd2b0194"
      },
      "execution_count": 2,
      "outputs": [
        {
          "output_type": "stream",
          "name": "stdout",
          "text": [
            "Матриця:\n",
            "[[0.59646265 0.67789906 0.39960081]\n",
            " [0.38705809 0.22701847 0.34950452]\n",
            " [0.51011393 0.63066592 0.09667078]]\n",
            "Вектор мінімальних елементі:\n",
            "[0.39960081 0.22701847 0.09667078]\n"
          ]
        }
      ]
    },
    {
      "cell_type": "code",
      "source": [
        "#Завдання 5: Створіть два одновимірних масиви розміром 4, заповніть їх випадковими цілимичислами від -5 до 5 та виконайте на них поелементні операції додавання, віднімання та множення.\n",
        "\n",
        "import numpy as np\n",
        "\n",
        "array1 = np.random.randint(-5, 6, 4)\n",
        "array2 = np.random.randint(-5, 6, 4)\n",
        "\n",
        "sum_result = array1 + array2\n",
        "sub_result = array1 - array2\n",
        "mul_result = array1 * array2\n",
        "\n",
        "print(\"Перший масив:\")\n",
        "print(array1)\n",
        "\n",
        "print(\"Другий масив:\")\n",
        "print(array2)\n",
        "\n",
        "print(\"Сума:\")\n",
        "print(sum_result)\n",
        "\n",
        "print(\"Різниця:\")\n",
        "print(sub_result)\n",
        "\n",
        "print(\"Добуток:\")\n",
        "print(mul_result)"
      ],
      "metadata": {
        "colab": {
          "base_uri": "https://localhost:8080/"
        },
        "id": "yuBAzBR-oNyd",
        "outputId": "3e23abf1-11c7-4198-8e48-f5b709b7e0d4"
      },
      "execution_count": 4,
      "outputs": [
        {
          "output_type": "stream",
          "name": "stdout",
          "text": [
            "Перший масив:\n",
            "[-5  0  1  2]\n",
            "Другий масив:\n",
            "[ 5 -2  1  4]\n",
            "Сума:\n",
            "[ 0 -2  2  6]\n",
            "Різниця:\n",
            "[-10   2   0  -2]\n",
            "Добуток:\n",
            "[-25   0   1   8]\n"
          ]
        }
      ]
    },
    {
      "cell_type": "code",
      "source": [
        "#Завдання 6: Створіть дві матриці 3x3, заповніть їх довільними цілими числами від 1 до 10 та знайдіть їх добуток.\n",
        "import numpy as np\n",
        "matrix1 = np.random.randint(1, 11, (3, 3))\n",
        "matrix2 = np.random.randint(1, 11, (3, 3))\n",
        "\n",
        "dobutok = np.dot(matrix1, matrix2)\n",
        "\n",
        "print(\"Добуток матриць:\")\n",
        "print(dobutok)"
      ],
      "metadata": {
        "colab": {
          "base_uri": "https://localhost:8080/"
        },
        "id": "7_T-XqHLphMe",
        "outputId": "e1e10f90-40b1-4349-e436-cfef6dba3401"
      },
      "execution_count": 7,
      "outputs": [
        {
          "output_type": "stream",
          "name": "stdout",
          "text": [
            "Добуток матриць:\n",
            "[[ 65  74  81]\n",
            " [147 218 153]\n",
            " [ 68  88  69]]\n"
          ]
        }
      ]
    },
    {
      "cell_type": "code",
      "source": [
        "#Завдання 7:Створіть дві матриці розміром 2x3 та 3x3, заповніть їх випадковими цілими числами в діапазоні від 1 до 4 та перемножте їх між собою.\n",
        "\n",
        "import numpy as np\n",
        "\n",
        "matrix1 = np.random.randint(1, 5, (2, 3))\n",
        "matrix2 = np.random.randint(1, 5, (3, 3))\n",
        "\n",
        "dobutok = np.dot(matrix1, matrix2)\n",
        "\n",
        "print(\"Матриця 2x3:\")\n",
        "print(matrix1)\n",
        "\n",
        "print(\"Матриця 3x3:\")\n",
        "print(matrix2)\n",
        "\n",
        "print(\"Добуток матриць:\")\n",
        "print(dobutok)"
      ],
      "metadata": {
        "colab": {
          "base_uri": "https://localhost:8080/"
        },
        "id": "AGiIHMDtqu7y",
        "outputId": "5bb39fd0-c553-4016-81ba-c92955b01870"
      },
      "execution_count": 12,
      "outputs": [
        {
          "output_type": "stream",
          "name": "stdout",
          "text": [
            "Матриця 2x3:\n",
            "[[4 3 3]\n",
            " [4 4 4]]\n",
            "Матриця 3x3:\n",
            "[[4 3 3]\n",
            " [4 1 4]\n",
            " [2 3 2]]\n",
            "Добуток матриць:\n",
            "[[34 24 30]\n",
            " [40 28 36]]\n"
          ]
        }
      ]
    },
    {
      "cell_type": "code",
      "source": [
        "#Завдання 8: Створіть матрицю розміром 3x3, заповніть її випадковими цілими числами в діапазоні від 1 до 12 та знайдіть її обернену матрицю.\n",
        "import numpy as np\n",
        "\n",
        "matrix = np.random.randint(1, 13, (3, 3))\n",
        "inverse = np.linalg.inv(matrix)\n",
        "print(\"Матриця:\")\n",
        "print(matrix)\n",
        "print(\"\\nОбернена матриця:\")\n",
        "print(inverse)"
      ],
      "metadata": {
        "colab": {
          "base_uri": "https://localhost:8080/"
        },
        "id": "RpGVf2eJr06H",
        "outputId": "7488425a-e3f6-4142-b2aa-904758824a89"
      },
      "execution_count": 14,
      "outputs": [
        {
          "output_type": "stream",
          "name": "stdout",
          "text": [
            "Матриця:\n",
            "[[ 2  5 11]\n",
            " [ 9  8  1]\n",
            " [ 8 12  3]]\n",
            "\n",
            "Обернена матриця:\n",
            "[[ 0.02905569  0.28329298 -0.20096852]\n",
            " [-0.04600484 -0.19854722  0.23486683]\n",
            " [ 0.10653753  0.03874092 -0.07021792]]\n"
          ]
        }
      ]
    },
    {
      "cell_type": "code",
      "source": [
        "#Завдання 9: Створіть матрицю розміром 4x4, заповніть її випадковими дійсними числами в діапазоні від -7 до 7 та транспонуйте ї\n",
        "import numpy as np\n",
        "\n",
        "matrix = np.random.uniform(-7, 7, (4, 4))\n",
        "print(\"Матриця:\")\n",
        "print (matrix)\n",
        "\n",
        "trans = np.transpose(matrix)\n",
        "print(\"Транспонована матриця:\")\n",
        "print (trans)\n"
      ],
      "metadata": {
        "colab": {
          "base_uri": "https://localhost:8080/"
        },
        "id": "e5XWOOgouqdX",
        "outputId": "68244e66-a5bb-4fa7-cf65-21498eee0840"
      },
      "execution_count": 23,
      "outputs": [
        {
          "output_type": "stream",
          "name": "stdout",
          "text": [
            "Матриця:\n",
            "[[ 4.84236684  5.71059944  6.04076479  4.3039829 ]\n",
            " [ 6.9593578  -5.33881366 -0.17437616 -5.80307923]\n",
            " [ 1.0579803  -3.56613647  4.07359475 -3.40854475]\n",
            " [ 5.5203754   4.7834968   3.75585731  4.61027445]]\n",
            "Транспонована матриця:\n",
            "[[ 4.84236684  6.9593578   1.0579803   5.5203754 ]\n",
            " [ 5.71059944 -5.33881366 -3.56613647  4.7834968 ]\n",
            " [ 6.04076479 -0.17437616  4.07359475  3.75585731]\n",
            " [ 4.3039829  -5.80307923 -3.40854475  4.61027445]]\n"
          ]
        }
      ]
    },
    {
      "cell_type": "code",
      "source": [
        "#Завдання 10: Створіть матрицю розміром 3x4 та вектор розміром 4x1, заповніть матрицю випадковими дійсними числами від 0 до 1, а вектор - випадковими дійсними числами від 0 до 1, і знайдіть добуток матриці на вектор.\n",
        "import numpy as np\n",
        "\n",
        "matrix = np.random.rand(3, 4)\n",
        "print(\"Матриця\")\n",
        "print (matrix)\n",
        "\n",
        "vector = np.random.rand(4, 1)\n",
        "print(\"Вектор\")\n",
        "print(vector)\n",
        "\n",
        "dobutok = np.dot(matrix, vector)\n",
        "print(\"Добуток:\")\n",
        "print (dobutok)"
      ],
      "metadata": {
        "colab": {
          "base_uri": "https://localhost:8080/"
        },
        "id": "nI5SoMdfw2v-",
        "outputId": "685ee408-9a2b-4a9b-b1fb-9d30a84420a7"
      },
      "execution_count": 29,
      "outputs": [
        {
          "output_type": "stream",
          "name": "stdout",
          "text": [
            "Матриця\n",
            "[[0.53853341 0.54391689 0.84191477 0.56307878]\n",
            " [0.88163791 0.1136566  0.90446183 0.35949309]\n",
            " [0.83361105 0.12240441 0.82553252 0.39786769]]\n",
            "Вектор\n",
            "[[0.87842378]\n",
            " [0.05387937]\n",
            " [0.94991052]\n",
            " [0.49213328]]\n",
            "Добуток:\n",
            "[[1.57921996]\n",
            " [1.81665177]\n",
            " [1.7188448 ]]\n"
          ]
        }
      ]
    },
    {
      "cell_type": "code",
      "source": [
        "#Завдання 11:Створіть матрицю розміром 2x3 та вектор розміром 3x1, заповніть матрицю випадковими дійсними числами від 0 до 1, а вектор - випадковими цілими числами в діапазоні від 1 до 10, і знайдіть добуток матриці на вектор.\n",
        "import numpy as np\n",
        "\n",
        "matrix = np.random.rand(2, 3)\n",
        "print(\"Матриця 2x3:\")\n",
        "print(matrix)\n",
        "\n",
        "vector = np.random.randint(1, 11, (3, 1))\n",
        "print(\"\\nВектор 3x1:\")\n",
        "print(vector)\n",
        "\n",
        "dobutok = np.dot(matrix, vector)\n",
        "print(\"\\nДобуток матриці на вектор:\")\n",
        "print(dobutok)"
      ],
      "metadata": {
        "colab": {
          "base_uri": "https://localhost:8080/"
        },
        "id": "k10dn0ANxhjt",
        "outputId": "ca79d42d-42ce-44b3-c0e3-b70893d5d650"
      },
      "execution_count": 33,
      "outputs": [
        {
          "output_type": "stream",
          "name": "stdout",
          "text": [
            "Матриця 2x3:\n",
            "[[0.43692208 0.39763658 0.17079734]\n",
            " [0.33386326 0.5110021  0.57984025]]\n",
            "\n",
            "Вектор 3x1:\n",
            "[[5]\n",
            " [5]\n",
            " [1]]\n",
            "\n",
            "Добуток матриці на вектор:\n",
            "[[4.34359061]\n",
            " [4.80416709]]\n"
          ]
        }
      ]
    },
    {
      "cell_type": "code",
      "source": [
        "#Завдання 12: Створіть дві матриці розміром 9x9, заповніть їх випадковими цілими числами в діапазоні від 1 до 10 та знайдіть відношення елементів другого стовпця другої матриці до відповідних елементів першої матриці (поелементне ділення).\n",
        "import numpy as np\n",
        "\n",
        "matrix1 = np.random.randint(1, 11, (9, 9))\n",
        "matrix2 = np.random.randint(1, 11, (9, 9))\n",
        "\n",
        "print(\"Перша матриця 9x9:\")\n",
        "print(matrix1)\n",
        "\n",
        "print(\"\\nДруга матриця 9x9:\")\n",
        "print(matrix2)\n",
        "\n",
        "result = matrix2[:, 1] / matrix1[:, 1]\n",
        "\n",
        "print(\"\\nВідношення елементів другого стовпця другої матриці до відповідних елементів першої матриці:\")\n",
        "print(result)"
      ],
      "metadata": {
        "colab": {
          "base_uri": "https://localhost:8080/"
        },
        "id": "1psyFDsL2t7n",
        "outputId": "bcd2c68d-66b1-41e8-df41-f387dbdb9560"
      },
      "execution_count": 35,
      "outputs": [
        {
          "output_type": "stream",
          "name": "stdout",
          "text": [
            "Перша матриця 9x9:\n",
            "[[ 7  3  9  4  2  6  6  8  5]\n",
            " [ 8 10  2 10  4  5  7  3  8]\n",
            " [ 1  3 10  5  8  6  3  5  9]\n",
            " [ 5  7  1  8 10  6  4  9  4]\n",
            " [ 3  1  2  8  2  4  6  9  1]\n",
            " [ 2  3 10  6  7  4  2  6  1]\n",
            " [10  5  4  2  8  9  4  7  2]\n",
            " [10 10  3 10  4  1  4  6  5]\n",
            " [10  3  2  8  8  4  7  7  9]]\n",
            "\n",
            "Друга матриця 9x9:\n",
            "[[ 3  2  5  4  2  8  1 10  7]\n",
            " [ 3  9  5  3 10  5  6  8  9]\n",
            " [10  6  2  4  7 10  3  6  9]\n",
            " [10  2  7  5  5  8  7  4  2]\n",
            " [ 6  7  7  1  3  5  1  7  2]\n",
            " [ 7  2  3  2 10  2 10  9  8]\n",
            " [ 7  2  7  1  4  8  5  5  4]\n",
            " [ 4  6  2  5  8  5  4  7  7]\n",
            " [ 1  1  4  9  6  2  7  6  8]]\n",
            "\n",
            "Відношення елементів другого стовпця другої матриці до відповідних елементів першої матриці:\n",
            "[0.66666667 0.9        2.         0.28571429 7.         0.66666667\n",
            " 0.4        0.6        0.33333333]\n"
          ]
        }
      ]
    },
    {
      "cell_type": "code",
      "source": [
        "#Завдання 13: Створіть дві матриці розміром 3x3, заповніть їх випадковими цілими числами в діапазоні від 1 до 10 та знайдіть добуток їх елементів.\n",
        "import numpy as np\n",
        "\n",
        "matrix1 = np.random.randint(1, 11, (3, 3))\n",
        "matrix2 = np.random.randint(1, 11, (3, 3))\n",
        "\n",
        "print(\"Перша матриця 3x3:\")\n",
        "print(matrix1)\n",
        "\n",
        "print(\"\\nДруга матриця 3x3:\")\n",
        "print(matrix2)\n",
        "\n",
        "dobutok = matrix1 * matrix2\n",
        "\n",
        "print(\"\\nДобуток елементів матриць поелементно:\")\n",
        "print(dobutok)"
      ],
      "metadata": {
        "colab": {
          "base_uri": "https://localhost:8080/"
        },
        "id": "RRfBxwsL3M2E",
        "outputId": "bd6a8061-2e62-41af-9a58-e284ff934a6f"
      },
      "execution_count": 37,
      "outputs": [
        {
          "output_type": "stream",
          "name": "stdout",
          "text": [
            "Перша матриця 3x3:\n",
            "[[ 2  6 10]\n",
            " [ 1  1  7]\n",
            " [ 7  6  3]]\n",
            "\n",
            "Друга матриця 3x3:\n",
            "[[ 1  3  6]\n",
            " [ 9  6  3]\n",
            " [10  3  4]]\n",
            "\n",
            "Добуток елементів матриць поелементно:\n",
            "[[ 2 18 60]\n",
            " [ 9  6 21]\n",
            " [70 18 12]]\n"
          ]
        }
      ]
    },
    {
      "cell_type": "code",
      "source": [
        "#Завдання 15: Створіть матрицю розміром 3x3, заповніть її випадковими дійсними числами в діапазоні від -2 до 2 та знайдіть вектор-стовпчик, що містить найменше за модулем ціле значення в кожному рядку матриці.\n",
        "\n",
        "import numpy as np\n",
        "\n",
        "matrix = np.random.uniform(-2, 2, (3, 3))\n",
        "\n",
        "def find_closest_integer_row(row):\n",
        "    integers = np.round(row).astype(int)\n",
        "    return integers[np.argmin(np.abs(integers))]\n",
        "\n",
        "col = np.array([find_closest_integer_row(row) for row in matrix])\n",
        "\n",
        "print(\"Матриця:\")\n",
        "print(matrix)\n",
        "print(\"\\nВектор-стовпчик найменших за модулем цілих значень:\")\n",
        "print(col)\n",
        "\n"
      ],
      "metadata": {
        "colab": {
          "base_uri": "https://localhost:8080/"
        },
        "id": "j1u_tTppIrJx",
        "outputId": "488ee2c9-8b76-4989-b82b-eed593cbb350"
      },
      "execution_count": 48,
      "outputs": [
        {
          "output_type": "stream",
          "name": "stdout",
          "text": [
            "Матриця:\n",
            "[[-0.08095273  1.71580048 -0.42055384]\n",
            " [ 1.67397634  1.85525392 -1.59990018]\n",
            " [ 1.6265564   0.02693172 -0.67445223]]\n",
            "\n",
            "Вектор-стовпчик найменших за модулем цілих значень:\n",
            "[0 2 0]\n"
          ]
        }
      ]
    },
    {
      "cell_type": "code",
      "source": [
        "# Висновок:\n",
        "# У процесі виконання лабораторної роботи було освоєно основні операції з масивами та матрицями в NumPy, такі як створення, обробка та виконання\n",
        "# математичних операцій, зокрема знаходження мінімальних елементів, добуток матриць і транспонування."
      ],
      "metadata": {
        "id": "-jhNMthaJgQj"
      },
      "execution_count": null,
      "outputs": []
    }
  ]
}